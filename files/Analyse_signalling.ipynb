{
 "cells": [
  {
   "cell_type": "markdown",
   "id": "61c2048f-1667-4b8c-847a-b15d61eb8de2",
   "metadata": {},
   "source": [
    "# Template for analysing signalling parameters"
   ]
  },
  {
   "cell_type": "markdown",
   "id": "797fe61f-de39-4069-81f0-cc108b010a0a",
   "metadata": {
    "jp-MarkdownHeadingCollapsed": true
   },
   "source": [
    "## Data requirements\n",
    "\n",
    "Data should be in Excel format containing a single sheet with two columns. The first column (A) contains the time data, the second column (B) contains the signal intensity data. \n",
    "\n",
    "The first row can (but need not) contain the data labels, the labels themselves are ignored. "
   ]
  },
  {
   "cell_type": "markdown",
   "id": "f3c61b6a-0d80-45a1-855c-43fcb1c6a0f8",
   "metadata": {},
   "source": [
    "## Instructions\n",
    "\n",
    "- The Excel files should be in the same folder as this notebook (see file browser on the left).\n",
    "- Three sample Excel files are provided. You can upload your own files using the upload function (up-arrow below `Run` in the menu at the top left).\n",
    "- Execute the cells in this notebook one-by-one by selecting the cell and pressing `Shift`-`Enter`.\n",
    "- In the selection widget, select the Excel data file you wish to analyse.\n",
    "- Executing all the cells in sequence will plot the data and calculate and print out the signalling parameters."
   ]
  },
  {
   "cell_type": "markdown",
   "id": "2bca05d1-52ad-42d2-af30-f89bcecfa6f2",
   "metadata": {},
   "source": [
    "# Code"
   ]
  },
  {
   "cell_type": "code",
   "execution_count": null,
   "id": "684cc994-e8ab-4e22-8413-c4fad48a5b13",
   "metadata": {},
   "outputs": [],
   "source": [
    "%pip install ipympl\n",
    "%pip install openpyxl\n",
    "%matplotlib widget"
   ]
  },
  {
   "cell_type": "code",
   "execution_count": null,
   "id": "7f279829-6b22-4c7b-a338-96f960049a7d",
   "metadata": {},
   "outputs": [],
   "source": [
    "from matplotlib import pyplot as plt\n",
    "import numpy as np\n",
    "import scipy as sp\n",
    "import pandas as pd\n",
    "import glob\n",
    "from ipywidgets import Select"
   ]
  },
  {
   "cell_type": "code",
   "execution_count": null,
   "id": "3ff77b85-068f-40fe-a198-830ada9288de",
   "metadata": {},
   "outputs": [],
   "source": [
    "# executing this cell brings up a selection widget from which to choose the Excel file to analyse\n",
    "excel_files = glob.glob('*.xls*')\n",
    "selector = Select(options=excel_files, description='Select file:')\n",
    "selector"
   ]
  },
  {
   "cell_type": "code",
   "execution_count": null,
   "id": "5050d798-3876-439b-a31f-cf535b227f5e",
   "metadata": {},
   "outputs": [],
   "source": [
    "datafile = selector.value\n",
    "df = pd.read_excel(datafile, names=['Time', 'Signal'])\n",
    "df = df[df.notna()]"
   ]
  },
  {
   "cell_type": "code",
   "execution_count": null,
   "id": "9a802024-c96f-487b-9693-d27ddbe4a0a5",
   "metadata": {},
   "outputs": [],
   "source": [
    "df.plot(x='Time', title=datafile)"
   ]
  },
  {
   "cell_type": "code",
   "execution_count": null,
   "id": "6cec03ba-ffa0-4324-a69f-2cdad813799c",
   "metadata": {},
   "outputs": [],
   "source": [
    "I = sp.integrate.simpson(df.Signal, x=df.Time)\n",
    "T = sp.integrate.simpson(df.Signal*df.Time, x=df.Time)\n",
    "Tau = T/I\n",
    "Q = sp.integrate.simpson(df.Signal*df.Time**2, x=df.Time)\n",
    "Theta = np.lib.scimath.sqrt(Q/I - Tau**2)\n",
    "A = I/(2*Theta)"
   ]
  },
  {
   "cell_type": "code",
   "execution_count": null,
   "id": "4c817815-fd06-41d0-9e8f-7bb69cb6e9d8",
   "metadata": {},
   "outputs": [],
   "source": [
    "print ('AUC = ', I)\n",
    "print ('Signal Time = ', Tau)\n",
    "print ('Signal Duration = ', Theta)\n",
    "print ('Amplitude = ', A)"
   ]
  },
  {
   "cell_type": "code",
   "execution_count": null,
   "id": "3297ffdf-1170-4fc9-ad85-9bc8c5dd87ed",
   "metadata": {},
   "outputs": [],
   "source": []
  }
 ],
 "metadata": {
  "kernelspec": {
   "display_name": "Python 3 (ipykernel)",
   "language": "python",
   "name": "python3"
  },
  "language_info": {
   "codemirror_mode": {
    "name": "ipython",
    "version": 3
   },
   "file_extension": ".py",
   "mimetype": "text/x-python",
   "name": "python",
   "nbconvert_exporter": "python",
   "pygments_lexer": "ipython3",
   "version": "3.12.7"
  },
  "scenes_data": {
   "active_scene": "Default Scene",
   "init_scene": "",
   "scenes": [
    "Default Scene"
   ]
  },
  "widgets": {
   "application/vnd.jupyter.widget-state+json": {
    "state": {
     "247b8c72bab64a95918692f89b1c48d6": {
      "model_module": "@jupyter-widgets/controls",
      "model_module_version": "2.0.0",
      "model_name": "SelectModel",
      "state": {
       "_options_labels": [
        "de_Cubas_200.xlsx",
        "Krist_highTSA_500.xlsx",
        "Krist_lowTSA_100.xlsx"
       ],
       "description": "Select file:",
       "index": 1,
       "layout": "IPY_MODEL_a378abb8837d4d34a04232a85d99ab19",
       "style": "IPY_MODEL_b8624b4117044528960a6dce59b36211"
      }
     },
     "76a828c1a0914606ac152b77ee389ac7": {
      "model_module": "@jupyter-widgets/base",
      "model_module_version": "2.0.0",
      "model_name": "LayoutModel",
      "state": {}
     },
     "9550c1ace8724bdc920e34f05eaebb67": {
      "model_module": "@jupyter-widgets/controls",
      "model_module_version": "2.0.0",
      "model_name": "SelectModel",
      "state": {
       "_options_labels": [
        "de_Cubas_200.xlsx",
        "Krist_highTSA_500.xlsx",
        "Krist_lowTSA_100.xlsx"
       ],
       "description": "Select file:",
       "index": 1,
       "layout": "IPY_MODEL_76a828c1a0914606ac152b77ee389ac7",
       "style": "IPY_MODEL_e4e45d578b524574a106cb24f4a1a402"
      }
     },
     "a378abb8837d4d34a04232a85d99ab19": {
      "model_module": "@jupyter-widgets/base",
      "model_module_version": "2.0.0",
      "model_name": "LayoutModel",
      "state": {}
     },
     "b8624b4117044528960a6dce59b36211": {
      "model_module": "@jupyter-widgets/controls",
      "model_module_version": "2.0.0",
      "model_name": "DescriptionStyleModel",
      "state": {
       "description_width": ""
      }
     },
     "e4e45d578b524574a106cb24f4a1a402": {
      "model_module": "@jupyter-widgets/controls",
      "model_module_version": "2.0.0",
      "model_name": "DescriptionStyleModel",
      "state": {
       "description_width": ""
      }
     }
    },
    "version_major": 2,
    "version_minor": 0
   }
  }
 },
 "nbformat": 4,
 "nbformat_minor": 5
}
